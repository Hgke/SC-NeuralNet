{
 "cells": [
  {
   "cell_type": "code",
   "execution_count": 3,
   "id": "f0eb3aa3-a0df-4265-a7ad-1bab83f48380",
   "metadata": {},
   "outputs": [],
   "source": [
    "import numpy as np\n",
    "from matplotlib import pyplot as plt\n",
    "import sys\n",
    "sys.path.insert(0, r'C:\\Users\\Admin\\Documents\\before_github\\Neuro')\n",
    "from Objects import Synaps, JTL, Square_pulse, Neuron_3JJ, Pulses, R, L\n",
    "from FunctionCompiler import *"
   ]
  },
  {
   "cell_type": "code",
   "execution_count": 49,
   "id": "e2ff17ba-d882-4960-9af2-bb940e550f4a",
   "metadata": {},
   "outputs": [],
   "source": [
    "jtl_1 = JTL.JTL(loc=[1,2],N=10,ib_val=0.75,l_val=3)\n",
    "Synaps_1 = Synaps.Synaps(loc=[2,3],L_value=1, R_value=0.1, C_value=1)\n",
    "\n",
    "r_12 = R.R(loc=[3,4],r=0.1)\n",
    "jtl_2 = JTL.JTL(loc=[4,5],N=10,ib_val=0.75,l_val=3)\n",
    "pulse = Square_pulse.Square_pulse(loc=[1],t0=50, A=0.45,length=100)\n",
    "\n",
    "t = np.arange(0, 400, 0.5)\n",
    "fc = FunctionCompiler([jtl_1,Synaps_1, r_12,jtl_2,pulse],t)\n",
    "sol = fc.solve()"
   ]
  },
  {
   "cell_type": "code",
   "execution_count": 1,
   "id": "72366960-fc6b-4d5c-9317-3e17c51bfd00",
   "metadata": {},
   "outputs": [
    {
     "ename": "NameError",
     "evalue": "name 'plt' is not defined",
     "output_type": "error",
     "traceback": [
      "\u001b[1;31m---------------------------------------------------------------------------\u001b[0m",
      "\u001b[1;31mNameError\u001b[0m                                 Traceback (most recent call last)",
      "\u001b[1;32m~\\AppData\\Local\\Temp/ipykernel_592/179213882.py\u001b[0m in \u001b[0;36m<module>\u001b[1;34m\u001b[0m\n\u001b[1;32m----> 1\u001b[1;33m \u001b[0mfig\u001b[0m\u001b[1;33m,\u001b[0m \u001b[0max\u001b[0m \u001b[1;33m=\u001b[0m \u001b[0mplt\u001b[0m\u001b[1;33m.\u001b[0m\u001b[0msubplots\u001b[0m\u001b[1;33m(\u001b[0m\u001b[0mnrows\u001b[0m\u001b[1;33m=\u001b[0m\u001b[1;36m5\u001b[0m\u001b[1;33m,\u001b[0m\u001b[0mncols\u001b[0m\u001b[1;33m=\u001b[0m\u001b[1;36m1\u001b[0m\u001b[1;33m,\u001b[0m\u001b[0mdpi\u001b[0m\u001b[1;33m=\u001b[0m\u001b[1;36m200\u001b[0m\u001b[1;33m,\u001b[0m\u001b[0mgridspec_kw\u001b[0m\u001b[1;33m=\u001b[0m\u001b[1;33m{\u001b[0m\u001b[1;34m'height_ratios'\u001b[0m\u001b[1;33m:\u001b[0m \u001b[1;33m[\u001b[0m\u001b[1;36m40\u001b[0m\u001b[1;33m,\u001b[0m\u001b[1;36m40\u001b[0m\u001b[1;33m,\u001b[0m\u001b[1;36m40\u001b[0m\u001b[1;33m,\u001b[0m\u001b[1;36m40\u001b[0m\u001b[1;33m,\u001b[0m\u001b[1;36m40\u001b[0m\u001b[1;33m]\u001b[0m\u001b[1;33m}\u001b[0m\u001b[1;33m)\u001b[0m\u001b[1;33m\u001b[0m\u001b[1;33m\u001b[0m\u001b[0m\n\u001b[0m\u001b[0;32m      2\u001b[0m \u001b[1;33m\u001b[0m\u001b[0m\n\u001b[0;32m      3\u001b[0m \u001b[1;31m# Input signal\u001b[0m\u001b[1;33m\u001b[0m\u001b[1;33m\u001b[0m\u001b[0m\n\u001b[0;32m      4\u001b[0m \u001b[0mplt\u001b[0m\u001b[1;33m.\u001b[0m\u001b[0msubplot\u001b[0m\u001b[1;33m(\u001b[0m\u001b[1;36m5\u001b[0m\u001b[1;33m,\u001b[0m\u001b[1;36m1\u001b[0m\u001b[1;33m,\u001b[0m\u001b[1;36m1\u001b[0m\u001b[1;33m)\u001b[0m\u001b[1;33m\u001b[0m\u001b[1;33m\u001b[0m\u001b[0m\n\u001b[0;32m      5\u001b[0m \u001b[0mplt\u001b[0m\u001b[1;33m.\u001b[0m\u001b[0mylabel\u001b[0m\u001b[1;33m(\u001b[0m\u001b[1;34m\"I\"\u001b[0m\u001b[1;33m,\u001b[0m\u001b[0mrotation\u001b[0m\u001b[1;33m=\u001b[0m\u001b[1;36m0\u001b[0m\u001b[1;33m,\u001b[0m\u001b[0mfontsize\u001b[0m\u001b[1;33m=\u001b[0m\u001b[1;36m15\u001b[0m\u001b[1;33m,\u001b[0m\u001b[0mlabelpad\u001b[0m\u001b[1;33m=\u001b[0m\u001b[1;36m10\u001b[0m\u001b[1;33m)\u001b[0m\u001b[1;33m\u001b[0m\u001b[1;33m\u001b[0m\u001b[0m\n",
      "\u001b[1;31mNameError\u001b[0m: name 'plt' is not defined"
     ]
    }
   ],
   "source": [
    "fig, ax = plt.subplots(nrows=5,ncols=1,dpi=200,gridspec_kw={'height_ratios': [40,40,40,40,40]})\n",
    "\n",
    "# Input signal\n",
    "plt.subplot(5,1,1)\n",
    "plt.ylabel(\"I\",rotation=0,fontsize=15,labelpad=10)\n",
    "plt.title('Current',x = 0.9,y=0.65, fontsize=10.0)\n",
    "plt.plot(t,pulse.get_data(\"I\",t,sol))\n",
    "plt.xticks([])\n",
    "\n",
    "# Input JTL JJ\n",
    "plt.subplot(5,1,2)\n",
    "plt.ylabel(\"V\",rotation=0,fontsize=15,labelpad=10)\n",
    "plt.title('JJ1_№1',x = 0.9,y=0.65, fontsize=10.0)\n",
    "plt.xticks([])\n",
    "plt.plot(t,fc.object_dict['JTL1_JJ1'].get_data(\"V\",t,sol))\n",
    "\n",
    "plt.subplot(5,1,3)\n",
    "plt.ylabel(\"V\",rotation=0,fontsize=15,labelpad=10)\n",
    "plt.title('JJ1_№10',x = 0.9,y=0.65, fontsize=10.0)\n",
    "plt.xticks([])\n",
    "plt.plot(t,fc.object_dict['JTL1_JJ10'].get_data(\"V\",t,sol))\n",
    "\n",
    "plt.subplot(5,1,4)\n",
    "plt.ylabel(\"V\",rotation=0,fontsize=15,labelpad=10)\n",
    "plt.title('JJ2_№1',x = 0.9,y=0.65, fontsize=10.0)\n",
    "plt.xticks([])\n",
    "plt.plot(t,fc.object_dict['JTL2_JJ1'].get_data(\"V\",t,sol))\n",
    "\n",
    "# Output JTL JJ\n",
    "\n",
    "plt.subplot(5,1,5)\n",
    "plt.ylabel(\"V\",rotation=0,fontsize=15,labelpad=10)\n",
    "plt.title('JJ10_№2',x = 0.9,y=0.65, fontsize=10.0)\n",
    "plt.plot(t,fc.object_dict['JTL2_JJ10'].get_data(\"V\",t,sol))\n"
   ]
  },
  {
   "cell_type": "code",
   "execution_count": 42,
   "id": "515a36c2-1f89-4380-afd1-99e7be6a0bb9",
   "metadata": {},
   "outputs": [
    {
     "data": {
      "text/plain": [
       "45"
      ]
     },
     "execution_count": 42,
     "metadata": {},
     "output_type": "execute_result"
    }
   ],
   "source": [
    "Amplitude_steps = 0.1\n",
    "\n",
    "Amplitude_signal_array = np.arange(0.5, 5, Amplitude_steps)\n",
    "\n",
    "len(Amplitude_signal_array)"
   ]
  }
 ],
 "metadata": {
  "kernelspec": {
   "display_name": "Python 3 (ipykernel)",
   "language": "python",
   "name": "python3"
  },
  "language_info": {
   "codemirror_mode": {
    "name": "ipython",
    "version": 3
   },
   "file_extension": ".py",
   "mimetype": "text/x-python",
   "name": "python",
   "nbconvert_exporter": "python",
   "pygments_lexer": "ipython3",
   "version": "3.9.7"
  }
 },
 "nbformat": 4,
 "nbformat_minor": 5
}
